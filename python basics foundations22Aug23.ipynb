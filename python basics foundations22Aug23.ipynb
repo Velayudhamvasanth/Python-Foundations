{
 "cells": [
  {
   "cell_type": "code",
   "execution_count": 10,
   "id": "5c9af329-484d-4d37-8f0c-63be787bd643",
   "metadata": {},
   "outputs": [
    {
     "name": "stdout",
     "output_type": "stream",
     "text": [
      "type conversions\n",
      "enter a value for conversion\n"
     ]
    },
    {
     "name": "stdin",
     "output_type": "stream",
     "text": [
      " 15\n"
     ]
    },
    {
     "name": "stdout",
     "output_type": "stream",
     "text": [
      "the type of entered value is 15 <class 'int'>\n",
      "the float value is 15.0 <class 'float'>\n",
      "the hex value is 15.0 <class 'str'>\n"
     ]
    }
   ],
   "source": [
    "print('type conversions')\n",
    "print (\"enter a value for conversion\" )\n",
    "x=(int(input()))\n",
    "print ('the type of entered value is',x,type (x))\n",
    "x=float(x)\n",
    "print ('the float value is', x , type(x))\n",
    "x=str(x)\n",
    "print ('the hex value is', x , type(x))"
   ]
  },
  {
   "cell_type": "raw",
   "id": "48016f50-8590-48f2-a259-6c869a89e793",
   "metadata": {},
   "source": [
    "2. we will be getting a syntax error if we declare a reserved keyword as a variable"
   ]
  },
  {
   "cell_type": "raw",
   "id": "acad1c6c-3f39-4943-ad00-cef46621da74",
   "metadata": {},
   "source": [
    "3. string can be used as a variable name"
   ]
  },
  {
   "cell_type": "raw",
   "id": "acfbf69d-7a72-458c-b1f1-14aa8bf8bda6",
   "metadata": {},
   "source": [
    "4.it is not possible to declare '_' as a variable name, it can be used inbetween any string name"
   ]
  },
  {
   "cell_type": "code",
   "execution_count": null,
   "id": "238347c3-5c46-4558-9bcd-dfcb0fe17d3d",
   "metadata": {},
   "outputs": [
    {
     "name": "stdout",
     "output_type": "stream",
     "text": [
      "type conversions\n",
      "enter a value for conversion\n"
     ]
    },
    {
     "name": "stdin",
     "output_type": "stream",
     "text": [
      " 12\n"
     ]
    },
    {
     "name": "stdout",
     "output_type": "stream",
     "text": [
      "x = 12\n",
      "the type of entered value is 12 <class 'int'>\n",
      "the float value is 12.0 <class 'float'>\n",
      "x = 32.0\n",
      "enter another value y\n"
     ]
    }
   ],
   "source": [
    "print('type conversions')\n",
    "print (\"enter a value for conversion\" )\n",
    "x=(int(input()))\n",
    "print ( 'x =',x)\n",
    "print ('the type of entered value is',x,type (x))\n",
    "x=float(x)\n",
    "print ('the float value is', x , type(x))\n",
    "x=x+20\n",
    "print ( 'x =',x)\n",
    "print('enter another value y')\n",
    "y=(int(input()))\n",
    "x=x*y\n",
    "print ( 'x =',x)\n",
    "x=str(x)\n",
    "print ('the hex value is', x , type(x))\n",
    "print (' X is dynamic as type of x has been changed 3 times')\n",
    "\n"
   ]
  },
  {
   "cell_type": "code",
   "execution_count": null,
   "id": "8c41df2a-d8be-40a1-8a45-f5ba91aca452",
   "metadata": {},
   "outputs": [],
   "source": []
  }
 ],
 "metadata": {
  "kernelspec": {
   "display_name": "Python 3 (ipykernel)",
   "language": "python",
   "name": "python3"
  },
  "language_info": {
   "codemirror_mode": {
    "name": "ipython",
    "version": 3
   },
   "file_extension": ".py",
   "mimetype": "text/x-python",
   "name": "python",
   "nbconvert_exporter": "python",
   "pygments_lexer": "ipython3",
   "version": "3.10.8"
  }
 },
 "nbformat": 4,
 "nbformat_minor": 5
}
